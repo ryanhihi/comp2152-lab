{
  "nbformat": 4,
  "nbformat_minor": 0,
  "metadata": {
    "colab": {
      "provenance": [],
      "include_colab_link": true
    },
    "kernelspec": {
      "name": "python3",
      "display_name": "Python 3"
    },
    "language_info": {
      "name": "python"
    }
  },
  "cells": [
    {
      "cell_type": "markdown",
      "metadata": {
        "id": "view-in-github",
        "colab_type": "text"
      },
      "source": [
        "<a href=\"https://colab.research.google.com/github/ryanhihi/comp2152-lab/blob/main/COMP2152_Lab03.ipynb\" target=\"_parent\"><img src=\"https://colab.research.google.com/assets/colab-badge.svg\" alt=\"Open In Colab\"/></a>"
      ]
    },
    {
      "cell_type": "markdown",
      "source": [
        "# List"
      ],
      "metadata": {
        "id": "5q-k5b9yWcNQ"
      }
    },
    {
      "cell_type": "markdown",
      "source": [
        "Use a 2-dimensional list to create and store the information of employees where each employee in the list consists of the following\n",
        "\n",
        "[Employee ID, Employee Name, Emloyee Type, Hours Worked, Hourly Rate, Location, Salary]\n",
        "\n",
        "The default value of salary is 0 and we will develop the script to update this value based on the employee type, hours worked and hourly wage.\n",
        "\n",
        "E.g.\n",
        "\n",
        "employees = [\n",
        "\n",
        "[1, John, full-time, 40, 15, \"ON\", 0],\n",
        "\n",
        "[2, Jane, part-time, 20, 12, \"ON\", 0],\n",
        "\n",
        "[3, Bob, full-time, 35, 16, \"AB\", 0]\n",
        "\n",
        "]"
      ],
      "metadata": {
        "id": "0gjhkpktXG30"
      }
    },
    {
      "cell_type": "code",
      "execution_count": null,
      "metadata": {
        "id": "C_JVa-M-WXo7"
      },
      "outputs": [],
      "source": [
        "# Initial an empty employees list\n",
        "employees = []"
      ]
    },
    {
      "cell_type": "code",
      "source": [
        "# Using 1-dimension list to store the detail of each employee\n",
        "# Employee ID, Employee Name, Emloyee Type, Hours Worked, Hourly Rate, Location, Salary\n",
        "e1 = [1, \"John\", \"full-time\", 40, 15, \"ON\", 0]\n",
        "e2 = [2, \"Jane\", \"part-time\", 20, 12, \"ON\", 0]\n",
        "e3 = [3, \"Bob\", \"full-time\", 35, 16, \"AB\", 0]"
      ],
      "metadata": {
        "id": "0vydzOJuXoaT"
      },
      "execution_count": null,
      "outputs": []
    },
    {
      "cell_type": "code",
      "source": [
        "# Append e1 and e3 employees to the list\n",
        "employees.append(e1)\n",
        "employees.append(e3)"
      ],
      "metadata": {
        "id": "CPn5sms_Xu5s"
      },
      "execution_count": null,
      "outputs": []
    },
    {
      "cell_type": "code",
      "source": [
        "# Print the list of employees\n",
        "print(employees)"
      ],
      "metadata": {
        "colab": {
          "base_uri": "https://localhost:8080/"
        },
        "id": "2EakiR6OXu2M",
        "outputId": "47446326-91f5-4bd2-c026-240a7f882e78"
      },
      "execution_count": null,
      "outputs": [
        {
          "output_type": "stream",
          "name": "stdout",
          "text": [
            "[[1, 'John', 'full-time', 40, 15, 'ON', 0], [3, 'Bob', 'full-time', 35, 16, 'AB', 0]]\n"
          ]
        }
      ]
    },
    {
      "cell_type": "code",
      "source": [
        "# Using insert method to insert e2 between e1 and e3 in the employees list\n",
        "employees.insert(1, e2)"
      ],
      "metadata": {
        "id": "dOb7uGXoXuzg"
      },
      "execution_count": null,
      "outputs": []
    },
    {
      "cell_type": "code",
      "source": [
        "# Print the list of employees\n",
        "print(employees)"
      ],
      "metadata": {
        "colab": {
          "base_uri": "https://localhost:8080/"
        },
        "id": "L6KbGc3EXuxL",
        "outputId": "10b8a73c-197b-4c59-cd89-d31d47bf16e8"
      },
      "execution_count": null,
      "outputs": [
        {
          "output_type": "stream",
          "name": "stdout",
          "text": [
            "[[1, 'John', 'full-time', 40, 15, 'ON', 0], [2, 'Jane', 'part-time', 20, 12, 'ON', 0], [3, 'Bob', 'full-time', 35, 16, 'AB', 0]]\n"
          ]
        }
      ]
    },
    {
      "cell_type": "code",
      "source": [
        "# Define a function to check if an employee id is already exist, and return True if exists or False if not exists\n",
        "def check_employee_exists(id):\n",
        "  for employee in employees:\n",
        "    if employee[0]==id:\n",
        "      return True\n",
        "  return False"
      ],
      "metadata": {
        "id": "ko-Djvl-Xuul"
      },
      "execution_count": null,
      "outputs": []
    },
    {
      "cell_type": "code",
      "source": [
        "# Check if employee with id 1 exist\n",
        "print(check_employee_exists(1))"
      ],
      "metadata": {
        "colab": {
          "base_uri": "https://localhost:8080/"
        },
        "id": "k-g4zRAGXur8",
        "outputId": "9025e251-39d0-472a-c6f0-7aa0c18fa13b"
      },
      "execution_count": null,
      "outputs": [
        {
          "output_type": "stream",
          "name": "stdout",
          "text": [
            "True\n"
          ]
        }
      ]
    },
    {
      "cell_type": "code",
      "source": [
        "# Check if employee with id 99 exist\n",
        "print(check_employee_exists(99))"
      ],
      "metadata": {
        "colab": {
          "base_uri": "https://localhost:8080/"
        },
        "id": "OjmVKTqJcOri",
        "outputId": "f5e86c33-5112-4937-9b64-e5c4714fecba"
      },
      "execution_count": null,
      "outputs": [
        {
          "output_type": "stream",
          "name": "stdout",
          "text": [
            "False\n"
          ]
        }
      ]
    },
    {
      "cell_type": "code",
      "source": [
        "# Alternatively, define a function to find employee and return the location(index) of the employee in the employees list.\n",
        "# If -1, employee not exist, otherwise, employee exists and employee location is return for further operations such as update, delete\n",
        "def find_employee(id):\n",
        "  for employee in employees:\n",
        "    if employee[0] == id:\n",
        "      return employees.index(employee)\n",
        "  return -1"
      ],
      "metadata": {
        "id": "UwZZ83nOXupO"
      },
      "execution_count": null,
      "outputs": []
    },
    {
      "cell_type": "code",
      "source": [
        "# Use find_employee function to check and return location of employee with id 3\n",
        "print(find_employee(1))"
      ],
      "metadata": {
        "colab": {
          "base_uri": "https://localhost:8080/"
        },
        "id": "Lqmix38GXum6",
        "outputId": "feeb776c-f0f2-4d25-edc8-198f63cdc8d1"
      },
      "execution_count": null,
      "outputs": [
        {
          "output_type": "stream",
          "name": "stdout",
          "text": [
            "2\n"
          ]
        }
      ]
    },
    {
      "cell_type": "code",
      "source": [
        "# Use find_employee function to check and return location of employee with id 99\n",
        "print(find_employee(99))"
      ],
      "metadata": {
        "colab": {
          "base_uri": "https://localhost:8080/"
        },
        "id": "aEKL5cXxXuf4",
        "outputId": "88fe5209-2b28-49e3-e5f0-c8b0e921d153"
      },
      "execution_count": null,
      "outputs": [
        {
          "output_type": "stream",
          "name": "stdout",
          "text": [
            "-1\n"
          ]
        }
      ]
    },
    {
      "cell_type": "code",
      "source": [
        "# Add new employee, check if employee exists before adding\n",
        "# [Employee ID, Employee Name, Emloyee Type, Hours Worked, Hourly Rate, Location, Salary ]\n",
        "# First, get employee information from users\n",
        "id = int(input(\"Enter Employee ID:\"))\n",
        "name = input(\"Enter Employee Name:\")\n",
        "emptype = input(\"Enter Employee Type:\")\n",
        "hour = input(\"Enter Employee Total Hours Worked:\")\n",
        "rate = input(\"Enter Employee Hourly Rate:\")\n",
        "location = input(\"Enter Employee Location:\")\n",
        "new_employee = [id, name, emptype, hour, rate, location, 0]\n"
      ],
      "metadata": {
        "id": "vevBg0ThXuca",
        "colab": {
          "base_uri": "https://localhost:8080/"
        },
        "outputId": "c64f9b2a-b7fe-417a-8b9a-a7ceaebd08f6"
      },
      "execution_count": null,
      "outputs": [
        {
          "name": "stdout",
          "output_type": "stream",
          "text": [
            "Enter Employee ID:1\n",
            "Enter Employee Name:sdf\n",
            "Enter Employee Type:sdfds\n",
            "Enter Employee Total Hours Worked:40\n",
            "Enter Employee Hourly Rate:dd\n",
            "Enter Employee Location:d\n"
          ]
        }
      ]
    },
    {
      "cell_type": "code",
      "source": [
        "# Using function check_employee_exists before adding employee\n",
        "if check_employee_exists(id):\n",
        "  # if True print employee already exists\n",
        "  print(\"Employee already exists\")\n",
        "else:\n",
        "  # if False, add employee with the above info, then print employee is successfully added\n",
        "  employees.append(new_employee)\n",
        "  print(\"Employee is successfully added\")"
      ],
      "metadata": {
        "id": "yhnDY-J0XuS1",
        "colab": {
          "base_uri": "https://localhost:8080/"
        },
        "outputId": "d98ebbe3-9366-43ff-c900-40376a8d151a"
      },
      "execution_count": null,
      "outputs": [
        {
          "output_type": "stream",
          "name": "stdout",
          "text": [
            "Employee already exists\n"
          ]
        }
      ]
    },
    {
      "cell_type": "markdown",
      "source": [
        "Update Employee Hours of Worked by Employee ID"
      ],
      "metadata": {
        "id": "4l3UdMM1dwll"
      }
    },
    {
      "cell_type": "code",
      "source": [
        "# Update an employee hours worked by employee id, check if employee exists using find_employee function before updating\n",
        "# Get employee id from user input\n",
        "id = int(input(\"Enter the employee ID:\"))\n"
      ],
      "metadata": {
        "id": "8imehIjbXuHl",
        "colab": {
          "base_uri": "https://localhost:8080/"
        },
        "outputId": "8f42cfec-23c4-4643-95d9-26d85cd288ef"
      },
      "execution_count": null,
      "outputs": [
        {
          "name": "stdout",
          "output_type": "stream",
          "text": [
            "Enter the employee ID:1\n"
          ]
        }
      ]
    },
    {
      "cell_type": "code",
      "source": [
        "# Use find_employee function to get the location of the employee in the employees list and store the location in a variable called \"index\"\n",
        "index =find_employee(id)\n"
      ],
      "metadata": {
        "id": "PWpxNDJ_cVPn"
      },
      "execution_count": null,
      "outputs": []
    },
    {
      "cell_type": "code",
      "source": [
        "# if index is not -1 (means that the employee exists), prompt input from users and update the employee's hours of worked\n",
        "if index != -1:\n",
        "    updated_hours = input(\"Enter updated hours of work: \")\n",
        "    employees[index][3] = updated_hours\n",
        "    print(\"Employee hours updated successfully\")\n",
        "else:\n",
        "    print(\"Employee does not exist\")\n",
        "\n"
      ],
      "metadata": {
        "colab": {
          "base_uri": "https://localhost:8080/"
        },
        "id": "i1d1hMBhcVMJ",
        "outputId": "4068d567-4ea4-4d40-c484-986f28f60880"
      },
      "execution_count": null,
      "outputs": [
        {
          "output_type": "stream",
          "name": "stdout",
          "text": [
            "Enter updated hours of work: 45\n",
            "Employee hours updated successfully\n"
          ]
        }
      ]
    },
    {
      "cell_type": "code",
      "source": [
        "# print employees to confirm the update\n",
        "print(employees)"
      ],
      "metadata": {
        "colab": {
          "base_uri": "https://localhost:8080/"
        },
        "id": "iwvDZgDWcVJ6",
        "outputId": "e4a82b43-489c-4fc3-cc60-c083b72205f4"
      },
      "execution_count": null,
      "outputs": [
        {
          "output_type": "stream",
          "name": "stdout",
          "text": [
            "[[1, 'John', 'full-time', '45', 15, 'ON', 0], [2, 'Jane', 'part-time', 20, 12, 'ON', 0], [3, 'Bob', 'full-time', '45', 16, 'AB', 0], ['1', 'hihi', 'fulltimr', 'ww', 'w', '', 0]]\n"
          ]
        }
      ]
    },
    {
      "cell_type": "markdown",
      "source": [
        "Remove/Delete Employee by Employee ID"
      ],
      "metadata": {
        "id": "AtB2flpJd3k0"
      }
    },
    {
      "cell_type": "code",
      "source": [
        "# Remove an employee by employee id, check if employee exists before removing\n",
        "# Get employee id from user input\n",
        "id = input(\"Enter the employee ID:\")"
      ],
      "metadata": {
        "colab": {
          "base_uri": "https://localhost:8080/"
        },
        "id": "WYGO68pzcVHr",
        "outputId": "bf19e4bf-b937-42d7-b92b-c054c581ee1d"
      },
      "execution_count": null,
      "outputs": [
        {
          "name": "stdout",
          "output_type": "stream",
          "text": [
            "Enter the employee ID:1\n"
          ]
        }
      ]
    },
    {
      "cell_type": "code",
      "source": [
        "# Use find_employee function to get the location of the employee in the employees list and store the location in a variable called \"index\"\n",
        "index =find_employee(id)"
      ],
      "metadata": {
        "id": "vQqLYAmrcVFA"
      },
      "execution_count": null,
      "outputs": []
    },
    {
      "cell_type": "code",
      "source": [
        "# if index is not -1 (means that the employee exists), delete employee using pop() method\n",
        "if index != -1:\n",
        "  employees.pop(index)\n",
        "  #print employee list to confirm the employee has been remove\n",
        "  print(employees)\n",
        "else:\n",
        "  print(\"Employee does not exist\")"
      ],
      "metadata": {
        "colab": {
          "base_uri": "https://localhost:8080/"
        },
        "id": "35uABtPTcVCU",
        "outputId": "7265ee8c-bb26-4452-b36f-56eba1cdeb53"
      },
      "execution_count": null,
      "outputs": [
        {
          "output_type": "stream",
          "name": "stdout",
          "text": [
            "Employee does not exist\n"
          ]
        }
      ]
    },
    {
      "cell_type": "markdown",
      "source": [
        "Calculate Employee Salary"
      ],
      "metadata": {
        "id": "Mg4VhDc3e2Vi"
      }
    },
    {
      "cell_type": "code",
      "source": [
        "# Define a function name calculate_salary() to calculate employee salary. If employee type is \"Full-time\", salary = hours_worked * hourly_rate * 2, if employee type is \"Part-time\", salary = hours_worked * hourly_rate\n",
        "def calculate_salary(employee):\n",
        "  if employee[2] == 'full-time':\n",
        "      employee[6] = int(employee[3])*int(employee[4])*2\n",
        "      return employee[6]\n",
        "  if employee[2] == 'part-time':\n",
        "      employee[6] = int(employee[3])*int(employee[4])\n",
        "      return employee[6]\n",
        "  return 0\n"
      ],
      "metadata": {
        "id": "BnAW06nwXtv-"
      },
      "execution_count": null,
      "outputs": []
    },
    {
      "cell_type": "code",
      "source": [
        "# Iterate through the list of employee, using the calculate_salary() function to calculate and print the salary of each employee.\n",
        "# [Employee ID, Employee Name, Emloyee Type, Hours Worked, Hourly Rate, Location, Salary ]\n",
        "for employee in employees:\n",
        "  calculate_salary(employee)\n",
        "  print(employee[1] +\" salary is \"+ str(employee[6]))\n",
        "\n"
      ],
      "metadata": {
        "colab": {
          "base_uri": "https://localhost:8080/"
        },
        "id": "3qXcZW0He8ZF",
        "outputId": "19c047a7-2ad0-4d58-adb0-7d090537dbac"
      },
      "execution_count": null,
      "outputs": [
        {
          "output_type": "stream",
          "name": "stdout",
          "text": [
            "John salary is 1350\n",
            "Jane salary is 240\n",
            "Bob salary is 1440\n"
          ]
        }
      ]
    },
    {
      "cell_type": "code",
      "source": [
        "# Print employee list to review the updates\n",
        "print(employees)"
      ],
      "metadata": {
        "colab": {
          "base_uri": "https://localhost:8080/"
        },
        "id": "fkvjkBjZe8Vl",
        "outputId": "14eb890f-e270-44d4-a0e8-29ae978ec506"
      },
      "execution_count": null,
      "outputs": [
        {
          "output_type": "stream",
          "name": "stdout",
          "text": [
            "[[1, 'John', 'full-time', '45', 15, 'ON', 1350], [2, 'Jane', 'part-time', 20, 12, 'ON', 240], [3, 'Bob', 'full-time', '45', 16, 'AB', 1440]]\n"
          ]
        }
      ]
    },
    {
      "cell_type": "markdown",
      "source": [
        "# Dictionary"
      ],
      "metadata": {
        "id": "LyP7sP02Wmo9"
      }
    },
    {
      "cell_type": "code",
      "source": [
        "# Add a dictionary to look up and display employee location\n",
        "provinces = {\n",
        "  \"AB\": \"Alberta\",\n",
        "  \"BC\": \"British Columbia\",\n",
        "  \"MB\": \"Manitoba\",\n",
        "  \"NB\": \"New Brunswick\",\n",
        "  \"NL\": \"Newfoundland and Labrador\",\n",
        "  \"NS\": \"Nova Scotia\",\n",
        "  \"NT\": \"Northwest Territories\",\n",
        "  \"NU\": \"Nunavut\",\n",
        "  \"ON\": \"Ontario\",\n",
        "  \"PE\": \"Prince Edward Island\",\n",
        "  \"QC\": \"Quebec\",\n",
        "  \"SK\": \"Saskatchewan\",\n",
        "  \"YT\": \"Yukon\"\n",
        "}"
      ],
      "metadata": {
        "id": "peD1GGkqWq9L"
      },
      "execution_count": null,
      "outputs": []
    },
    {
      "cell_type": "code",
      "source": [
        "# Using the key to access the value in the dict. E.g. use \"ON\" as the key\n",
        "print(provinces[\"ON\"])"
      ],
      "metadata": {
        "colab": {
          "base_uri": "https://localhost:8080/"
        },
        "id": "ah2aGQpRW50v",
        "outputId": "4aa6ee51-4454-4da3-a7ed-47739e12acf9"
      },
      "execution_count": null,
      "outputs": [
        {
          "output_type": "stream",
          "name": "stdout",
          "text": [
            "Ontario\n"
          ]
        }
      ]
    },
    {
      "cell_type": "code",
      "source": [
        "# Iterate through the list of employee and look up in the provinces dict to display the full name of the provinces the employee located instead of the abbreviation.\n",
        "# Employee ID, Employee Name, Emloyee Type, Hours Worked, Hourly Rate, Location, Salary\n",
        "for employee in employees:\n",
        "  print(employee[1] + \"is located in: \" +provinces[employee[5]])\n"
      ],
      "metadata": {
        "id": "mOViGaM5W8xw",
        "colab": {
          "base_uri": "https://localhost:8080/"
        },
        "outputId": "8871de4e-4c9b-4ef8-905a-9350e2e681a7"
      },
      "execution_count": null,
      "outputs": [
        {
          "output_type": "stream",
          "name": "stdout",
          "text": [
            "Johnis located in: Ontario\n",
            "Janeis located in: Ontario\n",
            "Bobis located in: Alberta\n"
          ]
        }
      ]
    }
  ]
}